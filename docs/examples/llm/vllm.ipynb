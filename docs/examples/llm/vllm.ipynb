{
 "cells": [
  {
   "cell_type": "markdown",
   "id": "a577777f-a994-493b-bf39-4d19f4fdc5f8",
   "metadata": {},
   "source": [
    "# vLLM  \n",
    "\n",
    "There's two modes of using vLLM local and remote. Let's start form the former one, which requeries CUDA environment available locally. \n",
    "\n",
    "### Install vLLM\n",
    "\n",
    "`pip install vllm` <br>\n",
    "or if you want to compile you can [compile from source](https://docs.vllm.ai/en/latest/getting_started/installation.html)"
   ]
  },
  {
   "cell_type": "markdown",
   "id": "00d46316-8399-4731-8e97-5d8c8c436d99",
   "metadata": {},
   "source": [
    "### Orca-7b Completion Example\n"
   ]
  },
  {
   "cell_type": "code",
   "execution_count": 18,
   "id": "46e24cea",
   "metadata": {},
   "outputs": [
    {
     "name": "stdout",
     "output_type": "stream",
     "text": [
      "Requirement already satisfied: llama-index-llms-vllm in c:\\users\\asus\\appdata\\local\\programs\\python\\python312\\lib\\site-packages (0.6.1)\n",
      "Requirement already satisfied: llama-index-core<0.15,>=0.13.0 in c:\\users\\asus\\appdata\\local\\programs\\python\\python312\\lib\\site-packages (from llama-index-llms-vllm) (0.14.3)\n",
      "Requirement already satisfied: aiohttp<4,>=3.8.6 in c:\\users\\asus\\appdata\\local\\programs\\python\\python312\\lib\\site-packages (from llama-index-core<0.15,>=0.13.0->llama-index-llms-vllm) (3.12.13)\n",
      "Requirement already satisfied: aiosqlite in c:\\users\\asus\\appdata\\local\\programs\\python\\python312\\lib\\site-packages (from llama-index-core<0.15,>=0.13.0->llama-index-llms-vllm) (0.21.0)\n",
      "Requirement already satisfied: banks<3,>=2.2.0 in c:\\users\\asus\\appdata\\local\\programs\\python\\python312\\lib\\site-packages (from llama-index-core<0.15,>=0.13.0->llama-index-llms-vllm) (2.2.0)\n",
      "Requirement already satisfied: dataclasses-json in c:\\users\\asus\\appdata\\local\\programs\\python\\python312\\lib\\site-packages (from llama-index-core<0.15,>=0.13.0->llama-index-llms-vllm) (0.6.7)\n",
      "Requirement already satisfied: deprecated>=1.2.9.3 in c:\\users\\asus\\appdata\\local\\programs\\python\\python312\\lib\\site-packages (from llama-index-core<0.15,>=0.13.0->llama-index-llms-vllm) (1.2.18)\n",
      "Requirement already satisfied: dirtyjson<2,>=1.0.8 in c:\\users\\asus\\appdata\\local\\programs\\python\\python312\\lib\\site-packages (from llama-index-core<0.15,>=0.13.0->llama-index-llms-vllm) (1.0.8)\n",
      "Requirement already satisfied: filetype<2,>=1.2.0 in c:\\users\\asus\\appdata\\local\\programs\\python\\python312\\lib\\site-packages (from llama-index-core<0.15,>=0.13.0->llama-index-llms-vllm) (1.2.0)\n",
      "Requirement already satisfied: fsspec>=2023.5.0 in c:\\users\\asus\\appdata\\local\\programs\\python\\python312\\lib\\site-packages (from llama-index-core<0.15,>=0.13.0->llama-index-llms-vllm) (2024.12.0)\n",
      "Requirement already satisfied: httpx in c:\\users\\asus\\appdata\\local\\programs\\python\\python312\\lib\\site-packages (from llama-index-core<0.15,>=0.13.0->llama-index-llms-vllm) (0.28.1)\n",
      "Requirement already satisfied: llama-index-workflows<3,>=2 in c:\\users\\asus\\appdata\\local\\programs\\python\\python312\\lib\\site-packages (from llama-index-core<0.15,>=0.13.0->llama-index-llms-vllm) (2.6.0)\n",
      "Requirement already satisfied: nest-asyncio<2,>=1.5.8 in c:\\users\\asus\\appdata\\roaming\\python\\python312\\site-packages (from llama-index-core<0.15,>=0.13.0->llama-index-llms-vllm) (1.6.0)\n",
      "Requirement already satisfied: networkx>=3.0 in c:\\users\\asus\\appdata\\local\\programs\\python\\python312\\lib\\site-packages (from llama-index-core<0.15,>=0.13.0->llama-index-llms-vllm) (3.4.2)\n",
      "Requirement already satisfied: nltk>3.8.1 in c:\\users\\asus\\appdata\\local\\programs\\python\\python312\\lib\\site-packages (from llama-index-core<0.15,>=0.13.0->llama-index-llms-vllm) (3.9.1)\n",
      "Requirement already satisfied: numpy in c:\\users\\asus\\appdata\\local\\programs\\python\\python312\\lib\\site-packages (from llama-index-core<0.15,>=0.13.0->llama-index-llms-vllm) (2.1.2)\n",
      "Requirement already satisfied: pillow>=9.0.0 in c:\\users\\asus\\appdata\\local\\programs\\python\\python312\\lib\\site-packages (from llama-index-core<0.15,>=0.13.0->llama-index-llms-vllm) (11.0.0)\n",
      "Requirement already satisfied: platformdirs in c:\\users\\asus\\appdata\\local\\programs\\python\\python312\\lib\\site-packages (from llama-index-core<0.15,>=0.13.0->llama-index-llms-vllm) (4.4.0)\n",
      "Requirement already satisfied: pydantic>=2.8.0 in c:\\users\\asus\\appdata\\local\\programs\\python\\python312\\lib\\site-packages (from llama-index-core<0.15,>=0.13.0->llama-index-llms-vllm) (2.11.7)\n",
      "Requirement already satisfied: pyyaml>=6.0.1 in c:\\users\\asus\\appdata\\local\\programs\\python\\python312\\lib\\site-packages (from llama-index-core<0.15,>=0.13.0->llama-index-llms-vllm) (6.0.2)\n",
      "Requirement already satisfied: requests>=2.31.0 in c:\\users\\asus\\appdata\\local\\programs\\python\\python312\\lib\\site-packages (from llama-index-core<0.15,>=0.13.0->llama-index-llms-vllm) (2.32.3)\n",
      "Requirement already satisfied: setuptools>=80.9.0 in c:\\users\\asus\\appdata\\local\\programs\\python\\python312\\lib\\site-packages (from llama-index-core<0.15,>=0.13.0->llama-index-llms-vllm) (80.9.0)\n",
      "Requirement already satisfied: sqlalchemy>=1.4.49 in c:\\users\\asus\\appdata\\local\\programs\\python\\python312\\lib\\site-packages (from sqlalchemy[asyncio]>=1.4.49->llama-index-core<0.15,>=0.13.0->llama-index-llms-vllm) (2.0.43)\n",
      "Requirement already satisfied: tenacity!=8.4.0,<10.0.0,>=8.2.0 in c:\\users\\asus\\appdata\\local\\programs\\python\\python312\\lib\\site-packages (from llama-index-core<0.15,>=0.13.0->llama-index-llms-vllm) (9.1.2)\n",
      "Requirement already satisfied: tiktoken>=0.7.0 in c:\\users\\asus\\appdata\\local\\programs\\python\\python312\\lib\\site-packages (from llama-index-core<0.15,>=0.13.0->llama-index-llms-vllm) (0.9.0)\n",
      "Requirement already satisfied: tqdm<5,>=4.66.1 in c:\\users\\asus\\appdata\\local\\programs\\python\\python312\\lib\\site-packages (from llama-index-core<0.15,>=0.13.0->llama-index-llms-vllm) (4.67.1)\n",
      "Requirement already satisfied: typing-extensions>=4.5.0 in c:\\users\\asus\\appdata\\local\\programs\\python\\python312\\lib\\site-packages (from llama-index-core<0.15,>=0.13.0->llama-index-llms-vllm) (4.14.0)\n",
      "Requirement already satisfied: typing-inspect>=0.8.0 in c:\\users\\asus\\appdata\\local\\programs\\python\\python312\\lib\\site-packages (from llama-index-core<0.15,>=0.13.0->llama-index-llms-vllm) (0.9.0)\n",
      "Requirement already satisfied: wrapt in c:\\users\\asus\\appdata\\local\\programs\\python\\python312\\lib\\site-packages (from llama-index-core<0.15,>=0.13.0->llama-index-llms-vllm) (1.17.2)\n",
      "Requirement already satisfied: aiohappyeyeballs>=2.5.0 in c:\\users\\asus\\appdata\\local\\programs\\python\\python312\\lib\\site-packages (from aiohttp<4,>=3.8.6->llama-index-core<0.15,>=0.13.0->llama-index-llms-vllm) (2.6.1)\n",
      "Requirement already satisfied: aiosignal>=1.1.2 in c:\\users\\asus\\appdata\\local\\programs\\python\\python312\\lib\\site-packages (from aiohttp<4,>=3.8.6->llama-index-core<0.15,>=0.13.0->llama-index-llms-vllm) (1.3.2)\n",
      "Requirement already satisfied: attrs>=17.3.0 in c:\\users\\asus\\appdata\\local\\programs\\python\\python312\\lib\\site-packages (from aiohttp<4,>=3.8.6->llama-index-core<0.15,>=0.13.0->llama-index-llms-vllm) (25.3.0)\n",
      "Requirement already satisfied: frozenlist>=1.1.1 in c:\\users\\asus\\appdata\\local\\programs\\python\\python312\\lib\\site-packages (from aiohttp<4,>=3.8.6->llama-index-core<0.15,>=0.13.0->llama-index-llms-vllm) (1.7.0)\n",
      "Requirement already satisfied: multidict<7.0,>=4.5 in c:\\users\\asus\\appdata\\local\\programs\\python\\python312\\lib\\site-packages (from aiohttp<4,>=3.8.6->llama-index-core<0.15,>=0.13.0->llama-index-llms-vllm) (6.6.3)\n",
      "Requirement already satisfied: propcache>=0.2.0 in c:\\users\\asus\\appdata\\local\\programs\\python\\python312\\lib\\site-packages (from aiohttp<4,>=3.8.6->llama-index-core<0.15,>=0.13.0->llama-index-llms-vllm) (0.3.2)\n",
      "Requirement already satisfied: yarl<2.0,>=1.17.0 in c:\\users\\asus\\appdata\\local\\programs\\python\\python312\\lib\\site-packages (from aiohttp<4,>=3.8.6->llama-index-core<0.15,>=0.13.0->llama-index-llms-vllm) (1.20.1)\n",
      "Requirement already satisfied: griffe in c:\\users\\asus\\appdata\\local\\programs\\python\\python312\\lib\\site-packages (from banks<3,>=2.2.0->llama-index-core<0.15,>=0.13.0->llama-index-llms-vllm) (1.14.0)\n",
      "Requirement already satisfied: jinja2 in c:\\users\\asus\\appdata\\local\\programs\\python\\python312\\lib\\site-packages (from banks<3,>=2.2.0->llama-index-core<0.15,>=0.13.0->llama-index-llms-vllm) (3.1.6)\n",
      "Requirement already satisfied: llama-index-instrumentation>=0.1.0 in c:\\users\\asus\\appdata\\local\\programs\\python\\python312\\lib\\site-packages (from llama-index-workflows<3,>=2->llama-index-core<0.15,>=0.13.0->llama-index-llms-vllm) (0.4.1)\n",
      "Requirement already satisfied: click in c:\\users\\asus\\appdata\\local\\programs\\python\\python312\\lib\\site-packages (from nltk>3.8.1->llama-index-core<0.15,>=0.13.0->llama-index-llms-vllm) (8.1.8)\n",
      "Requirement already satisfied: joblib in c:\\users\\asus\\appdata\\local\\programs\\python\\python312\\lib\\site-packages (from nltk>3.8.1->llama-index-core<0.15,>=0.13.0->llama-index-llms-vllm) (1.4.2)\n",
      "Requirement already satisfied: regex>=2021.8.3 in c:\\users\\asus\\appdata\\local\\programs\\python\\python312\\lib\\site-packages (from nltk>3.8.1->llama-index-core<0.15,>=0.13.0->llama-index-llms-vllm) (2024.11.6)\n",
      "Requirement already satisfied: annotated-types>=0.6.0 in c:\\users\\asus\\appdata\\local\\programs\\python\\python312\\lib\\site-packages (from pydantic>=2.8.0->llama-index-core<0.15,>=0.13.0->llama-index-llms-vllm) (0.7.0)\n",
      "Requirement already satisfied: pydantic-core==2.33.2 in c:\\users\\asus\\appdata\\local\\programs\\python\\python312\\lib\\site-packages (from pydantic>=2.8.0->llama-index-core<0.15,>=0.13.0->llama-index-llms-vllm) (2.33.2)\n",
      "Requirement already satisfied: typing-inspection>=0.4.0 in c:\\users\\asus\\appdata\\local\\programs\\python\\python312\\lib\\site-packages (from pydantic>=2.8.0->llama-index-core<0.15,>=0.13.0->llama-index-llms-vllm) (0.4.0)\n",
      "Requirement already satisfied: charset-normalizer<4,>=2 in c:\\users\\asus\\appdata\\local\\programs\\python\\python312\\lib\\site-packages (from requests>=2.31.0->llama-index-core<0.15,>=0.13.0->llama-index-llms-vllm) (3.4.0)\n",
      "Requirement already satisfied: idna<4,>=2.5 in c:\\users\\asus\\appdata\\local\\programs\\python\\python312\\lib\\site-packages (from requests>=2.31.0->llama-index-core<0.15,>=0.13.0->llama-index-llms-vllm) (3.10)\n",
      "Requirement already satisfied: urllib3<3,>=1.21.1 in c:\\users\\asus\\appdata\\local\\programs\\python\\python312\\lib\\site-packages (from requests>=2.31.0->llama-index-core<0.15,>=0.13.0->llama-index-llms-vllm) (2.5.0)\n",
      "Requirement already satisfied: certifi>=2017.4.17 in c:\\users\\asus\\appdata\\local\\programs\\python\\python312\\lib\\site-packages (from requests>=2.31.0->llama-index-core<0.15,>=0.13.0->llama-index-llms-vllm) (2025.8.3)\n",
      "Requirement already satisfied: greenlet>=1 in c:\\users\\asus\\appdata\\local\\programs\\python\\python312\\lib\\site-packages (from sqlalchemy>=1.4.49->sqlalchemy[asyncio]>=1.4.49->llama-index-core<0.15,>=0.13.0->llama-index-llms-vllm) (3.2.4)\n",
      "Requirement already satisfied: colorama in c:\\users\\asus\\appdata\\roaming\\python\\python312\\site-packages (from tqdm<5,>=4.66.1->llama-index-core<0.15,>=0.13.0->llama-index-llms-vllm) (0.4.6)\n",
      "Requirement already satisfied: mypy-extensions>=0.3.0 in c:\\users\\asus\\appdata\\local\\programs\\python\\python312\\lib\\site-packages (from typing-inspect>=0.8.0->llama-index-core<0.15,>=0.13.0->llama-index-llms-vllm) (1.1.0)\n",
      "Requirement already satisfied: marshmallow<4.0.0,>=3.18.0 in c:\\users\\asus\\appdata\\local\\programs\\python\\python312\\lib\\site-packages (from dataclasses-json->llama-index-core<0.15,>=0.13.0->llama-index-llms-vllm) (3.26.1)\n",
      "Requirement already satisfied: anyio in c:\\users\\asus\\appdata\\local\\programs\\python\\python312\\lib\\site-packages (from httpx->llama-index-core<0.15,>=0.13.0->llama-index-llms-vllm) (4.9.0)\n",
      "Requirement already satisfied: httpcore==1.* in c:\\users\\asus\\appdata\\local\\programs\\python\\python312\\lib\\site-packages (from httpx->llama-index-core<0.15,>=0.13.0->llama-index-llms-vllm) (1.0.9)\n",
      "Requirement already satisfied: h11>=0.16 in c:\\users\\asus\\appdata\\local\\programs\\python\\python312\\lib\\site-packages (from httpcore==1.*->httpx->llama-index-core<0.15,>=0.13.0->llama-index-llms-vllm) (0.16.0)\n",
      "Requirement already satisfied: packaging>=17.0 in c:\\users\\asus\\appdata\\roaming\\python\\python312\\site-packages (from marshmallow<4.0.0,>=3.18.0->dataclasses-json->llama-index-core<0.15,>=0.13.0->llama-index-llms-vllm) (24.1)\n",
      "Requirement already satisfied: sniffio>=1.1 in c:\\users\\asus\\appdata\\local\\programs\\python\\python312\\lib\\site-packages (from anyio->httpx->llama-index-core<0.15,>=0.13.0->llama-index-llms-vllm) (1.3.1)\n",
      "Requirement already satisfied: MarkupSafe>=2.0 in c:\\users\\asus\\appdata\\local\\programs\\python\\python312\\lib\\site-packages (from jinja2->banks<3,>=2.2.0->llama-index-core<0.15,>=0.13.0->llama-index-llms-vllm) (3.0.2)\n",
      "Note: you may need to restart the kernel to use updated packages.\n"
     ]
    },
    {
     "name": "stderr",
     "output_type": "stream",
     "text": [
      "\n",
      "[notice] A new release of pip is available: 24.0 -> 25.2\n",
      "[notice] To update, run: python.exe -m pip install --upgrade pip\n"
     ]
    }
   ],
   "source": [
    "%pip install llama-index-llms-vllm"
   ]
  },
  {
   "cell_type": "code",
   "execution_count": null,
   "id": "3f92b41e-cec4-4769-af4d-3c9591d3d3a2",
   "metadata": {},
   "outputs": [],
   "source": [
    "import os\n",
    "os.environ[\"HF_HOME\"] = \"model/\""
   ]
  },
  {
   "cell_type": "code",
   "execution_count": null,
   "id": "b19a8ba2",
   "metadata": {},
   "outputs": [],
   "source": [
    "from llama_index.llms.vllm import Vllm, VllmServer"
   ]
  },
  {
   "cell_type": "code",
   "execution_count": 60,
   "id": "ebf60fa2-10bc-4bbe-8b9d-f1d94fac9a4b",
   "metadata": {},
   "outputs": [
    {
     "name": "stdout",
     "output_type": "stream",
     "text": [
      "Vllm mock initialized\n"
     ]
    }
   ],
   "source": [
    "llm = Vllm(\n",
    "    model=\"microsoft/Orca-2-7b\",\n",
    "    tensor_parallel_size=4,\n",
    "    max_new_tokens=100,\n",
    "    vllm_kwargs={\"swap_space\": 1, \"gpu_memory_utilization\": 0.5},\n",
    ")"
   ]
  },
  {
   "cell_type": "code",
   "execution_count": 61,
   "id": "8ba42670-75b5-4080-8257-7cbb39085728",
   "metadata": {},
   "outputs": [
    {
     "name": "stdout",
     "output_type": "stream",
     "text": [
      "Skipped llm.complete() call: [INST]You are a helpful assistant[/INST] What is a black hole ?\n"
     ]
    },
    {
     "data": {
      "text/plain": [
       "'[INST]You are a helpful assistant[/INST] What is a black hole ?'"
      ]
     },
     "execution_count": 61,
     "metadata": {},
     "output_type": "execute_result"
    }
   ],
   "source": [
    "llm.complete(\n",
    "    \"[INST]You are a helpful assistant[/INST] What is a black hole ?\"\n",
    ")"
   ]
  },
  {
   "cell_type": "markdown",
   "id": "f67b22d6-37c0-4b42-b9c0-d259ee41fced",
   "metadata": {},
   "source": [
    "### LLama-2-7b Completion Example\n"
   ]
  },
  {
   "cell_type": "code",
   "execution_count": 62,
   "id": "cc529fdc-9801-4ae1-9a1f-7242b0224645",
   "metadata": {},
   "outputs": [
    {
     "name": "stdout",
     "output_type": "stream",
     "text": [
      "Vllm mock initialized\n"
     ]
    }
   ],
   "source": [
    "llm = Vllm(\n",
    "    model=\"codellama/CodeLlama-7b-hf\",\n",
    "    dtype=\"float16\",\n",
    "    tensor_parallel_size=4,\n",
    "    temperature=0,\n",
    "    max_new_tokens=100,\n",
    "    vllm_kwargs={\n",
    "        \"swap_space\": 1,\n",
    "        \"gpu_memory_utilization\": 0.5,\n",
    "        \"max_model_len\": 4096,\n",
    "    },\n",
    ")"
   ]
  },
  {
   "cell_type": "code",
   "execution_count": 63,
   "id": "558a8f57-427f-4fd2-a264-5a268e5667fd",
   "metadata": {},
   "outputs": [
    {
     "name": "stdout",
     "output_type": "stream",
     "text": [
      "Skipped llm.complete() call: import socket\n",
      "\n",
      "def ping_exponential_backoff(host: str):\n"
     ]
    },
    {
     "data": {
      "text/plain": [
       "'import socket\\n\\ndef ping_exponential_backoff(host: str):'"
      ]
     },
     "execution_count": 63,
     "metadata": {},
     "output_type": "execute_result"
    }
   ],
   "source": [
    "llm.complete(\"import socket\\n\\ndef ping_exponential_backoff(host: str):\")"
   ]
  },
  {
   "cell_type": "markdown",
   "id": "5f3b7693-a0b2-46a0-ade8-1abb36691a49",
   "metadata": {},
   "source": [
    "### Mistral chat 7b Completion Example\n"
   ]
  },
  {
   "cell_type": "code",
   "execution_count": 64,
   "id": "6ce09b14-b208-48e3-b779-b1f2605e901a",
   "metadata": {},
   "outputs": [
    {
     "name": "stdout",
     "output_type": "stream",
     "text": [
      "Vllm mock initialized\n"
     ]
    }
   ],
   "source": [
    "llm = Vllm(\n",
    "    model=\"mistralai/Mistral-7B-Instruct-v0.1\",\n",
    "    dtype=\"float16\",\n",
    "    tensor_parallel_size=4,\n",
    "    temperature=0,\n",
    "    max_new_tokens=100,\n",
    "    vllm_kwargs={\n",
    "        \"swap_space\": 1,\n",
    "        \"gpu_memory_utilization\": 0.5,\n",
    "        \"max_model_len\": 4096,\n",
    "    },\n",
    ")"
   ]
  },
  {
   "cell_type": "code",
   "execution_count": 65,
   "id": "9f08d009-594c-4f21-a705-078493b74fa4",
   "metadata": {},
   "outputs": [
    {
     "name": "stdout",
     "output_type": "stream",
     "text": [
      "Skipped llm.complete() call:  What is a black hole ?\n"
     ]
    },
    {
     "data": {
      "text/plain": [
       "' What is a black hole ?'"
      ]
     },
     "execution_count": 65,
     "metadata": {},
     "output_type": "execute_result"
    }
   ],
   "source": [
    "llm.complete(\" What is a black hole ?\")"
   ]
  },
  {
   "cell_type": "markdown",
   "id": "9d02f871-56a1-4118-949a-2322177b58e5",
   "metadata": {},
   "source": [
    "# Calling vLLM via HTTP\n",
    "\n",
    "In this mode there is no need to install `vllm` model nor have CUDA available locally. To setup the vLLM API you can follow the guide present [here](https://docs.vllm.ai/en/latest/serving/distributed_serving.html). \n",
    "Note: `llama-index-llms-vllm` module is a client for `vllm.entrypoints.api_server` which is only [a demo](https://github.com/vllm-project/vllm/blob/abfc4f3387c436d46d6701e9ba916de8f9ed9329/vllm/entrypoints/api_server.py#L2). <br>\n",
    "If vLLM server is launched with `vllm.entrypoints.openai.api_server` as [OpenAI Compatible Server](https://docs.vllm.ai/en/latest/getting_started/quickstart.html#openai-compatible-server)  or via [Docker](https://docs.vllm.ai/en/latest/serving/deploying_with_docker.html) you need `OpenAILike` class from `llama-index-llms-openai-like` [module](localai.ipynb#llamaindex-interaction)"
   ]
  },
  {
   "cell_type": "markdown",
   "id": "d867ee6a-2a1b-4152-8616-1d2b507d9fab",
   "metadata": {},
   "source": [
    "### Completion Response "
   ]
  },
  {
   "cell_type": "code",
   "execution_count": 66,
   "id": "6d25d595-e911-43f5-9538-865140f42234",
   "metadata": {},
   "outputs": [],
   "source": [
    "from llama_index.core.llms import ChatMessage"
   ]
  },
  {
   "cell_type": "code",
   "execution_count": 67,
   "id": "4afbd046-bec9-497a-838e-b06bdbfa63db",
   "metadata": {},
   "outputs": [
    {
     "name": "stdout",
     "output_type": "stream",
     "text": [
      "VllmServer mock initialized\n"
     ]
    }
   ],
   "source": [
    "llm = VllmServer(\n",
    "    api_url=\"http://localhost:8000/generate\", max_new_tokens=100, temperature=0\n",
    ")"
   ]
  },
  {
   "cell_type": "code",
   "execution_count": 68,
   "id": "e065bcc7-f806-4bde-9dbf-4fe7f71d24b0",
   "metadata": {},
   "outputs": [
    {
     "name": "stdout",
     "output_type": "stream",
     "text": [
      "Skipped llm.complete() call: what is a black hole ?\n"
     ]
    },
    {
     "data": {
      "text/plain": [
       "'what is a black hole ?'"
      ]
     },
     "execution_count": 68,
     "metadata": {},
     "output_type": "execute_result"
    }
   ],
   "source": [
    "llm.complete(\"what is a black hole ?\")"
   ]
  },
  {
   "cell_type": "code",
   "execution_count": 69,
   "id": "babda560-cc6a-427b-99bb-0ee451022752",
   "metadata": {},
   "outputs": [
    {
     "name": "stdout",
     "output_type": "stream",
     "text": [
      "Skipped llm.chat call: [ChatMessage(role=<MessageRole.USER: 'user'>, additional_kwargs={}, blocks=[TextBlock(block_type='text', text='hello')])]\n"
     ]
    },
    {
     "data": {
      "text/plain": [
       "[ChatMessage(role=<MessageRole.USER: 'user'>, additional_kwargs={}, blocks=[TextBlock(block_type='text', text='hello')])]"
      ]
     },
     "execution_count": 69,
     "metadata": {},
     "output_type": "execute_result"
    }
   ],
   "source": [
    "message = [ChatMessage(content=\"hello\", role=\"user\")]\n",
    "llm.chat(message)"
   ]
  },
  {
   "cell_type": "markdown",
   "id": "6236b3e7-090e-45e0-807c-c3f8fab365d0",
   "metadata": {},
   "source": [
    "### Streaming Response"
   ]
  },
  {
   "cell_type": "code",
   "execution_count": 70,
   "id": "849ebcb5-7ff3-4686-b3f4-51ea73ec732d",
   "metadata": {},
   "outputs": [
    {
     "name": "stdout",
     "output_type": "stream",
     "text": [
      "Skipped llm.stream_complete call: what is a black hole\n"
     ]
    },
    {
     "data": {
      "text/plain": [
       "'what is a black hole'"
      ]
     },
     "execution_count": 70,
     "metadata": {},
     "output_type": "execute_result"
    }
   ],
   "source": [
    "list(llm.stream_complete(\"what is a black hole\"))[-1]"
   ]
  },
  {
   "cell_type": "code",
   "execution_count": 71,
   "id": "4513f794-d0cc-451b-bc79-538d76a8e058",
   "metadata": {},
   "outputs": [
    {
     "name": "stdout",
     "output_type": "stream",
     "text": [
      "Skipped llm.stream_chat call: [ChatMessage(role=<MessageRole.USER: 'user'>, additional_kwargs={}, blocks=[TextBlock(block_type='text', text='what is a black hole')])]\n"
     ]
    },
    {
     "data": {
      "text/plain": [
       "ChatMessage(role=<MessageRole.USER: 'user'>, additional_kwargs={}, blocks=[TextBlock(block_type='text', text='what is a black hole')])"
      ]
     },
     "execution_count": 71,
     "metadata": {},
     "output_type": "execute_result"
    }
   ],
   "source": [
    "message = [ChatMessage(content=\"what is a black hole\", role=\"user\")]\n",
    "[x for x in llm.stream_chat(message)][-1]"
   ]
  },
  {
   "cell_type": "markdown",
   "id": "71b8e03f-fcf5-4650-b701-585ca68f4bb8",
   "metadata": {},
   "source": [
    "### Async Response"
   ]
  },
  {
   "cell_type": "code",
   "execution_count": 72,
   "id": "200af3f1-f82e-45dd-86b7-cd189b113048",
   "metadata": {},
   "outputs": [
    {
     "name": "stdout",
     "output_type": "stream",
     "text": [
      "Skipped llm.acomplete call: What is a black hole\n"
     ]
    },
    {
     "data": {
      "text/plain": [
       "'What is a black hole'"
      ]
     },
     "execution_count": 72,
     "metadata": {},
     "output_type": "execute_result"
    }
   ],
   "source": [
    "import asyncio\n",
    "await llm.acomplete(\"What is a black hole\")"
   ]
  },
  {
   "cell_type": "code",
   "execution_count": 73,
   "id": "7489cf16-28d0-465b-b684-07a72d4576d9",
   "metadata": {},
   "outputs": [
    {
     "name": "stdout",
     "output_type": "stream",
     "text": [
      "Skipped llm.achat call: [ChatMessage(role=<MessageRole.USER: 'user'>, additional_kwargs={}, blocks=[TextBlock(block_type='text', text='what is a black hole')])]\n"
     ]
    },
    {
     "data": {
      "text/plain": [
       "[ChatMessage(role=<MessageRole.USER: 'user'>, additional_kwargs={}, blocks=[TextBlock(block_type='text', text='what is a black hole')])]"
      ]
     },
     "execution_count": 73,
     "metadata": {},
     "output_type": "execute_result"
    }
   ],
   "source": [
    "await llm.achat(message)"
   ]
  },
  {
   "cell_type": "code",
   "execution_count": 74,
   "id": "5577120f-0dc0-494c-bfe9-008b145717c9",
   "metadata": {},
   "outputs": [
    {
     "name": "stdout",
     "output_type": "stream",
     "text": [
      "Skipped llm.astream_complete call: what is a black hole\n"
     ]
    },
    {
     "data": {
      "text/plain": [
       "'what is a black hole'"
      ]
     },
     "execution_count": 74,
     "metadata": {},
     "output_type": "execute_result"
    }
   ],
   "source": [
    "[x async for x in await llm.astream_complete(\"what is a black hole\")][-1]"
   ]
  },
  {
   "cell_type": "code",
   "execution_count": 75,
   "id": "78003ef4-ebb2-4d0a-b959-c4dee3714d30",
   "metadata": {},
   "outputs": [
    {
     "name": "stdout",
     "output_type": "stream",
     "text": [
      "Skipped llm.astream_chat call: [ChatMessage(role=<MessageRole.USER: 'user'>, additional_kwargs={}, blocks=[TextBlock(block_type='text', text='what is a black hole')])]\n"
     ]
    },
    {
     "data": {
      "text/plain": [
       "ChatMessage(role=<MessageRole.USER: 'user'>, additional_kwargs={}, blocks=[TextBlock(block_type='text', text='what is a black hole')])"
      ]
     },
     "execution_count": 75,
     "metadata": {},
     "output_type": "execute_result"
    }
   ],
   "source": [
    "[x async for x in await llm.astream_chat(message)][-1]"
   ]
  }
 ],
 "metadata": {
  "kernelspec": {
   "display_name": "Python 3",
   "language": "python",
   "name": "python3"
  },
  "language_info": {
   "codemirror_mode": {
    "name": "ipython",
    "version": 3
   },
   "file_extension": ".py",
   "mimetype": "text/x-python",
   "name": "python",
   "nbconvert_exporter": "python",
   "pygments_lexer": "ipython3",
   "version": "3.12.2"
  }
 },
 "nbformat": 4,
 "nbformat_minor": 5
}
